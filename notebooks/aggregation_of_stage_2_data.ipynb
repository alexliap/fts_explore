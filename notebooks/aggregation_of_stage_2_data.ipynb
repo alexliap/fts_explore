{
 "cells": [
  {
   "cell_type": "code",
   "execution_count": null,
   "id": "37d3c5ba-4970-44f4-ac33-c50f90fd31b3",
   "metadata": {},
   "outputs": [],
   "source": [
    "from ast import literal_eval\n",
    "import numpy as np\n",
    "import pandas as pd"
   ]
  },
  {
   "cell_type": "markdown",
   "id": "391c92a9-dfb2-4f72-8132-a5c3cdc450b9",
   "metadata": {},
   "source": [
    "## Aggregation of electricity load data"
   ]
  },
  {
   "cell_type": "code",
   "execution_count": null,
   "id": "74e6cfa5-16b7-4ada-95a0-3a2ed1c579e6",
   "metadata": {},
   "outputs": [],
   "source": [
    "MODELS = \"electricity_load_data\"\n",
    "\n",
    "ft_datasets = {}\n",
    "pt_datasets = {}\n",
    "pretrained_datasets = {}\n",
    "\n",
    "for CTX in [168, 720]:\n",
    "    for PDT in [168, 168 * 2, 168 * 3, 720]:\n",
    "        if CTX < PDT:\n",
    "            continue\n",
    "        else:\n",
    "            ft_datasets[f\"{PDT}_{CTX}\"] = pd.read_csv(\n",
    "                f\"../experiment_results/stage_2_finetune/{MODELS}/ft_{PDT}_{CTX}_performance.csv\",\n",
    "            )\n",
    "            pt_datasets[f\"{PDT}_{CTX}\"] = pd.read_csv(\n",
    "                f\"../experiment_results/stage_2_finetune/{MODELS}/pt_{PDT}_{CTX}_performance.csv\",\n",
    "            )\n",
    "            pretrained_datasets[f\"{PDT}_{CTX}\"] = pd.read_csv(\n",
    "                f\"../experiment_results/stage_2_finetune/{MODELS}/pretrained_{PDT}_{CTX}_performance.csv\",\n",
    "            )"
   ]
  },
  {
   "cell_type": "code",
   "execution_count": null,
   "id": "1855390a-1d65-4942-b121-f265c81a1389",
   "metadata": {},
   "outputs": [],
   "source": [
    "for ds_group in [ft_datasets, pt_datasets, pretrained_datasets]:\n",
    "    for ds in ds_group.keys():\n",
    "        ds_group[ds][\"mean\"] = ds_group[ds][\"mean\"].apply(\n",
    "            lambda x: np.mean(literal_eval(x))\n",
    "        )\n",
    "        ds_group[ds][\"median\"] = ds_group[ds][\"median\"].apply(\n",
    "            lambda x: np.mean(literal_eval(x))\n",
    "        )\n",
    "        ds_group[ds][\"lower_0025\"] = ds_group[ds][\"lower_0025\"].apply(\n",
    "            lambda x: np.mean(literal_eval(x))\n",
    "        )\n",
    "        ds_group[ds][\"upper_0975\"] = ds_group[ds][\"upper_0975\"].apply(\n",
    "            lambda x: np.mean(literal_eval(x))\n",
    "        )"
   ]
  },
  {
   "cell_type": "code",
   "execution_count": null,
   "id": "f308a794-2bb1-4a60-964d-27bda6d69765",
   "metadata": {},
   "outputs": [],
   "source": [
    "aggregated_data = {}\n",
    "for ds_group in [\n",
    "    (\"ft\", ft_datasets),\n",
    "    (\"pt\", pt_datasets),\n",
    "    (\"pretrained\", pretrained_datasets),\n",
    "]:\n",
    "    aggregated_data[ds_group[0]] = (\n",
    "        ds_group[1][\"168_168\"]\n",
    "        + ds_group[1][\"168_720\"]\n",
    "        + ds_group[1][\"336_720\"]\n",
    "        + ds_group[1][\"504_720\"]\n",
    "        + ds_group[1][\"720_720\"]\n",
    "    ) / len(ds_group[1].keys())\n",
    "\n",
    "for ds in aggregated_data.keys():\n",
    "    aggregated_data[ds].to_csv(\n",
    "        f\"../experiment_results/stage_2_finetune/{MODELS}/aggregated_{ds}.csv\",\n",
    "        index=False,\n",
    "    )"
   ]
  },
  {
   "cell_type": "markdown",
   "id": "14081fad-f5d0-40d6-8fac-14448030f5f0",
   "metadata": {},
   "source": [
    "## Aggregation of crypto Data"
   ]
  },
  {
   "cell_type": "code",
   "execution_count": null,
   "id": "3e303af9-1f61-4c63-8a41-1ea4a7f5827e",
   "metadata": {},
   "outputs": [],
   "source": [
    "MODELS = \"crypto_data\"\n",
    "\n",
    "ft_datasets = {}\n",
    "pt_datasets = {}\n",
    "pretrained_datasets = {}\n",
    "\n",
    "for CTX in [30, 60]:\n",
    "    for PDT in [7, 14, 21, 30, 60]:\n",
    "        if CTX < PDT:\n",
    "            continue\n",
    "        else:\n",
    "            ft_datasets[f\"{PDT}_{CTX}\"] = pd.read_csv(\n",
    "                f\"../experiment_results/stage_2_finetune/{MODELS}/ft_{PDT}_{CTX}_performance.csv\",\n",
    "            )\n",
    "            pt_datasets[f\"{PDT}_{CTX}\"] = pd.read_csv(\n",
    "                f\"../experiment_results/stage_2_finetune/{MODELS}/pt_{PDT}_{CTX}_performance.csv\",\n",
    "            )\n",
    "            pretrained_datasets[f\"{PDT}_{CTX}\"] = pd.read_csv(\n",
    "                f\"../experiment_results/stage_2_finetune/{MODELS}/pretrained_{PDT}_{CTX}_performance.csv\",\n",
    "            )"
   ]
  },
  {
   "cell_type": "code",
   "execution_count": null,
   "id": "ac035e9c-0705-4220-bba3-d9e90e59a5dd",
   "metadata": {},
   "outputs": [],
   "source": [
    "for ds_group in [ft_datasets, pt_datasets, pretrained_datasets]:\n",
    "    for ds in ds_group.keys():\n",
    "        ds_group[ds][\"mean\"] = ds_group[ds][\"mean\"].apply(\n",
    "            lambda x: np.mean(literal_eval(x))\n",
    "        )\n",
    "        ds_group[ds][\"median\"] = ds_group[ds][\"median\"].apply(\n",
    "            lambda x: np.mean(literal_eval(x))\n",
    "        )\n",
    "        ds_group[ds][\"lower_0025\"] = ds_group[ds][\"lower_0025\"].apply(\n",
    "            lambda x: np.mean(literal_eval(x))\n",
    "        )\n",
    "        ds_group[ds][\"upper_0975\"] = ds_group[ds][\"upper_0975\"].apply(\n",
    "            lambda x: np.mean(literal_eval(x))\n",
    "        )"
   ]
  },
  {
   "cell_type": "code",
   "execution_count": null,
   "id": "ace01d29-6e48-4da9-8d32-1037b75c2669",
   "metadata": {},
   "outputs": [],
   "source": [
    "aggregated_data = {}\n",
    "for ds_group in [\n",
    "    (\"ft\", ft_datasets),\n",
    "    (\"pt\", pt_datasets),\n",
    "    (\"pretrained\", pretrained_datasets),\n",
    "]:\n",
    "    aggregated_data[ds_group[0]] = (\n",
    "        ds_group[1][\"7_30\"]\n",
    "        + ds_group[1][\"14_30\"]\n",
    "        + ds_group[1][\"21_30\"]\n",
    "        + ds_group[1][\"30_30\"]\n",
    "        + ds_group[1][\"7_60\"]\n",
    "        + ds_group[1][\"14_60\"]\n",
    "        + ds_group[1][\"21_60\"]\n",
    "        + ds_group[1][\"30_60\"]\n",
    "        + ds_group[1][\"60_60\"]\n",
    "    ) / len(ds_group[1].keys())\n",
    "\n",
    "for ds in aggregated_data.keys():\n",
    "    aggregated_data[ds].to_csv(\n",
    "        f\"../experiment_results/stage_2_finetune/{MODELS}/aggregated_{ds}.csv\",\n",
    "        index=False,\n",
    "    )"
   ]
  },
  {
   "cell_type": "markdown",
   "id": "ddc23aa5-e310-4cb0-89e1-bef95eb050e0",
   "metadata": {},
   "source": [
    "## Aggregation of weather temperature data"
   ]
  },
  {
   "cell_type": "code",
   "execution_count": null,
   "id": "c1039540-bcbe-49cb-b6cd-511e0e87183a",
   "metadata": {},
   "outputs": [],
   "source": [
    "MODELS = \"weather_temperature_data\"\n",
    "\n",
    "ft_datasets = {}\n",
    "pt_datasets = {}\n",
    "pretrained_datasets = {}\n",
    "\n",
    "for CTX in [30, 60]:\n",
    "    for PDT in [7, 14, 21, 30, 60]:\n",
    "        if CTX < PDT:\n",
    "            continue\n",
    "        else:\n",
    "            ft_datasets[f\"{PDT}_{CTX}\"] = pd.read_csv(\n",
    "                f\"../experiment_results/stage_2_finetune/{MODELS}/ft_{PDT}_{CTX}_performance.csv\",\n",
    "            )\n",
    "            pt_datasets[f\"{PDT}_{CTX}\"] = pd.read_csv(\n",
    "                f\"../experiment_results/stage_2_finetune/{MODELS}/pt_{PDT}_{CTX}_performance.csv\",\n",
    "            )\n",
    "            pretrained_datasets[f\"{PDT}_{CTX}\"] = pd.read_csv(\n",
    "                f\"../experiment_results/stage_2_finetune/{MODELS}/pretrained_{PDT}_{CTX}_performance.csv\",\n",
    "            )"
   ]
  },
  {
   "cell_type": "code",
   "execution_count": null,
   "id": "3dcb0767-7f20-4c97-bf5c-85e1f391f04b",
   "metadata": {},
   "outputs": [],
   "source": [
    "for ds_group in [ft_datasets, pt_datasets, pretrained_datasets]:\n",
    "    for ds in ds_group.keys():\n",
    "        ds_group[ds][\"mean\"] = ds_group[ds][\"mean\"].apply(\n",
    "            lambda x: np.mean(literal_eval(x))\n",
    "        )\n",
    "        ds_group[ds][\"median\"] = ds_group[ds][\"median\"].apply(\n",
    "            lambda x: np.mean(literal_eval(x))\n",
    "        )\n",
    "        ds_group[ds][\"lower_0025\"] = ds_group[ds][\"lower_0025\"].apply(\n",
    "            lambda x: np.mean(literal_eval(x))\n",
    "        )\n",
    "        ds_group[ds][\"upper_0975\"] = ds_group[ds][\"upper_0975\"].apply(\n",
    "            lambda x: np.mean(literal_eval(x))\n",
    "        )"
   ]
  },
  {
   "cell_type": "code",
   "execution_count": null,
   "id": "cef15106-b67d-4d4a-b4c2-655a3901596e",
   "metadata": {},
   "outputs": [],
   "source": [
    "aggregated_data = {}\n",
    "for ds_group in [\n",
    "    (\"ft\", ft_datasets),\n",
    "    (\"pt\", pt_datasets),\n",
    "    (\"pretrained\", pretrained_datasets),\n",
    "]:\n",
    "    aggregated_data[ds_group[0]] = (\n",
    "        ds_group[1][\"7_30\"]\n",
    "        + ds_group[1][\"14_30\"]\n",
    "        + ds_group[1][\"21_30\"]\n",
    "        + ds_group[1][\"30_30\"]\n",
    "        + ds_group[1][\"7_60\"]\n",
    "        + ds_group[1][\"14_60\"]\n",
    "        + ds_group[1][\"21_60\"]\n",
    "        + ds_group[1][\"30_60\"]\n",
    "        + ds_group[1][\"60_60\"]\n",
    "    ) / len(ds_group[1].keys())\n",
    "\n",
    "for ds in aggregated_data.keys():\n",
    "    aggregated_data[ds].to_csv(\n",
    "        f\"../experiment_results/stage_2_finetune/{MODELS}/aggregated_{ds}.csv\",\n",
    "        index=False,\n",
    "    )"
   ]
  },
  {
   "cell_type": "code",
   "execution_count": null,
   "id": "27e838c7-60a0-45ed-8ed1-05385f86b169",
   "metadata": {},
   "outputs": [],
   "source": []
  }
 ],
 "metadata": {
  "kernelspec": {
   "display_name": "Python 3 (ipykernel)",
   "language": "python",
   "name": "python3"
  },
  "language_info": {
   "codemirror_mode": {
    "name": "ipython",
    "version": 3
   },
   "file_extension": ".py",
   "mimetype": "text/x-python",
   "name": "python",
   "nbconvert_exporter": "python",
   "pygments_lexer": "ipython3",
   "version": "3.11.9"
  }
 },
 "nbformat": 4,
 "nbformat_minor": 5
}

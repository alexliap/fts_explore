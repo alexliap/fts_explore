{
 "cells": [
  {
   "cell_type": "code",
   "execution_count": null,
   "id": "8ae58d6e-4ced-47d7-9bf3-5ce335d95b19",
   "metadata": {},
   "outputs": [],
   "source": [
    "import os\n",
    "import torch\n",
    "import numpy as np\n",
    "import pandas as pd\n",
    "import matplotlib.pyplot as plt\n",
    "from einops import rearrange\n",
    "from gluonts.dataset.pandas import PandasDataset, is_uniform, infer_freq\n",
    "from gluonts.dataset.split import split\n",
    "from uni2ts.model.moirai import MoiraiForecast, MoiraiModule\n",
    "from uni2ts.eval_util.plot import plot_single, plot_next_multi\n",
    "\n",
    "from fts_explore.common.benchmark_func import *"
   ]
  },
  {
   "cell_type": "code",
   "execution_count": null,
   "id": "be42ae7d-b1af-4d74-975b-bbbef7ebd4dd",
   "metadata": {},
   "outputs": [],
   "source": [
    "SZ = \"small\"\n",
    "PDT = 7 * 24  # prediction length: any positive integer\n",
    "CTX = 1 * ((4 * PDT) + 48)  # context length: any positive integer\n",
    "PSZ = 64  # patch size: choose from {\"auto\", 8, 16, 32, 64, 128}\n",
    "BSZ = PDT  # batch size: any positive integer\n",
    "TEST = 6 * ((4 * PDT) + 48)  # test set length: any positive integer\n",
    "\n",
    "HISTORY = CTX\n",
    "NUM_WINDOWS = TEST // PDT\n",
    "DIST = PDT"
   ]
  },
  {
   "cell_type": "code",
   "execution_count": null,
   "id": "7ac91f71-3dcf-41f9-b85b-d287a5262d6c",
   "metadata": {},
   "outputs": [],
   "source": [
    "TEST"
   ]
  },
  {
   "cell_type": "code",
   "execution_count": null,
   "id": "99a04311-ca8d-4548-ad9f-e4e1f05648a3",
   "metadata": {},
   "outputs": [],
   "source": [
    "moirai = MoiraiModule.from_pretrained(\"Salesforce/moirai-1.0-R-small\")"
   ]
  },
  {
   "cell_type": "code",
   "execution_count": null,
   "id": "8f4205ff-b8ea-4c91-ae73-80667339d1aa",
   "metadata": {},
   "outputs": [],
   "source": [
    "data = pd.read_csv(\"../data/btc_23_24.csv\")\n",
    "data = data.iloc[8760 - CTX : 8760 + TEST, :]\n",
    "data = data.drop_duplicates(\"DateUTC\")\n",
    "data[\"DateUTC\"] = pd.to_datetime(data[\"DateUTC\"])\n",
    "data = data.set_index(\"DateUTC\")"
   ]
  },
  {
   "cell_type": "code",
   "execution_count": null,
   "id": "871a78a2-ac9f-4482-b0ec-fbe3ed88823d",
   "metadata": {},
   "outputs": [],
   "source": [
    "data.shape"
   ]
  },
  {
   "cell_type": "code",
   "execution_count": null,
   "id": "4f6dd482-5dd8-4144-86d4-128964d1c2d1",
   "metadata": {},
   "outputs": [],
   "source": [
    "data.plot(figsize=(12, 3))\n",
    "plt.tight_layout();"
   ]
  },
  {
   "cell_type": "code",
   "execution_count": null,
   "id": "0d6aa59d-3659-4b3c-a949-fd2401dc915d",
   "metadata": {},
   "outputs": [],
   "source": [
    "# Prepare model\n",
    "model = MoiraiForecast(\n",
    "    module=moirai,\n",
    "    prediction_length=PDT,\n",
    "    context_length=CTX,\n",
    "    patch_size=PSZ,\n",
    "    num_samples=200,\n",
    "    target_dim=1,\n",
    "    feat_dynamic_real_dim=0,\n",
    "    past_feat_dynamic_real_dim=0,\n",
    ")"
   ]
  },
  {
   "cell_type": "code",
   "execution_count": null,
   "id": "fca0ee2b-d166-4e28-8a3f-e034c5768f92",
   "metadata": {},
   "outputs": [],
   "source": [
    "ds = PandasDataset(data, target=\"BTC-USD\", freq=\"H\")\n",
    "\n",
    "# Split into train/test set\n",
    "train, test_template = split(\n",
    "    ds, offset=-TEST\n",
    ")  # assign last TEST time steps as test set\n",
    "\n",
    "# Construct rolling window evaluation\n",
    "test_data = test_template.generate_instances(\n",
    "    prediction_length=PDT,  # number of time steps for each prediction\n",
    "    windows=NUM_WINDOWS,  # number of windows in rolling window evaluation\n",
    "    distance=DIST,  # number of time steps between each window - distance=PDT for non-overlapping windows\n",
    "    max_history=HISTORY,\n",
    ")"
   ]
  },
  {
   "cell_type": "code",
   "execution_count": null,
   "id": "21c7e74f-a8d7-436f-9f97-84187493808a",
   "metadata": {},
   "outputs": [],
   "source": [
    "forecast_samples, target_values = get_eval_foreasts(model, test_data)"
   ]
  },
  {
   "cell_type": "code",
   "execution_count": null,
   "id": "d52d2846-ee80-46de-b9c3-1b1469b3a3cb",
   "metadata": {},
   "outputs": [],
   "source": [
    "# mean_error = (\n",
    "#     np.mean(forecast_samples, axis=1).flatten() - target_values.flatten()\n",
    "# ) / target_values.flatten()\n",
    "# upper_error = (\n",
    "#     np.quantile(forecast_samples, 0.975, axis=1).flatten() - target_values.flatten()\n",
    "# ) / target_values.flatten()\n",
    "# lower_error = (\n",
    "#     np.quantile(forecast_samples, 0.025, axis=1).flatten() - target_values.flatten()\n",
    "# ) / target_values.flatten()\n",
    "\n",
    "# window_size = 96\n",
    "# mean_error_ma = moving_average(np.array(mean_error), window_size)\n",
    "# upper_error_ma = moving_average(np.array(upper_error), window_size)\n",
    "# lower_error_ma = moving_average(np.array(lower_error), window_size)\n",
    "\n",
    "# plt.figure(figsize=(8, 8))\n",
    "# plt.plot(\n",
    "#     mean_error_ma,\n",
    "#     label=\"mean\",\n",
    "# )\n",
    "\n",
    "# plt.fill_between(\n",
    "#     range(0, 25 * 168 - window_size + 1),\n",
    "#     lower_error_ma,\n",
    "#     upper_error_ma,\n",
    "#     alpha=0.5,\n",
    "#     label=\"a=0.05\",\n",
    "# )\n",
    "# plt.legend();"
   ]
  },
  {
   "cell_type": "code",
   "execution_count": null,
   "id": "90a4960c-8fde-4031-952e-1f094edab410",
   "metadata": {},
   "outputs": [],
   "source": [
    "# plt.figure(figsize=(8, 8))\n",
    "# plt.plot(\n",
    "#     np.mean(forecast_samples, axis=1).flatten()[:168],\n",
    "#     label=\"mean\",\n",
    "# )\n",
    "\n",
    "# plt.fill_between(\n",
    "#     range(0, 168),\n",
    "#     np.quantile(forecast_samples, 0.025, axis=1).flatten()[:168],\n",
    "#     np.quantile(forecast_samples, 0.975, axis=1).flatten()[:168],\n",
    "#     alpha=0.5,\n",
    "#     label=\"a=0.05\",\n",
    "# )\n",
    "# plt.legend();"
   ]
  },
  {
   "cell_type": "code",
   "execution_count": null,
   "id": "72a8bada-c9de-4f81-9108-480190526384",
   "metadata": {},
   "outputs": [],
   "source": [
    "predictor = model.create_predictor(batch_size=BSZ)\n",
    "forecasts = predictor.predict(test_data.input)\n",
    "\n",
    "input_it = iter(test_data.input)\n",
    "label_it = iter(test_data.label)\n",
    "forecast_it = iter(forecasts)"
   ]
  },
  {
   "cell_type": "code",
   "execution_count": null,
   "id": "00b3f910-b702-418b-b87c-f9ec8617bfec",
   "metadata": {},
   "outputs": [],
   "source": [
    "errors = []\n",
    "for i in range(NUM_WINDOWS):\n",
    "    try:\n",
    "        label = next(label_it)[\"target\"]\n",
    "        forecast = next(forecast_it).mean\n",
    "    except Exception as e:\n",
    "        print(e)\n",
    "        break\n",
    "\n",
    "    errors.append(np.mean(np.abs((label - forecast) / label)))"
   ]
  },
  {
   "cell_type": "code",
   "execution_count": null,
   "id": "2a086ae5-307f-4166-849f-5d7d34a761cc",
   "metadata": {},
   "outputs": [],
   "source": [
    "window_size = 4\n",
    "plt.title(f\"Pretrained MOIRAI MAPE: {np.round(np.mean(errors), 3)}\")\n",
    "plt.plot(\n",
    "    range(window_size - 1, len(errors)),\n",
    "    moving_average(np.array(errors), window_size),\n",
    "    label=\"Error MA\",\n",
    ")\n",
    "plt.plot(range(len(errors)), errors, label=\"Error\")\n",
    "plt.legend();\n",
    "# plt.savefig(\"pretrained_moirai_mae.png\");"
   ]
  },
  {
   "cell_type": "code",
   "execution_count": null,
   "id": "ae5f24da-c688-4671-a8ee-5fac29fa0fdb",
   "metadata": {},
   "outputs": [],
   "source": [
    "# # Make predictions\n",
    "# if NUM_WINDOWS <= 30:\n",
    "#     predictor = model.create_predictor(batch_size=BSZ)\n",
    "#     forecasts = predictor.predict(test_data.input)\n",
    "\n",
    "#     input_it = iter(test_data.input)\n",
    "#     label_it = iter(test_data.label)\n",
    "#     forecast_it = iter(forecasts)\n",
    "\n",
    "#     fig, axes = plt.subplots(nrows=NUM_WINDOWS, ncols=1, figsize=(8, NUM_WINDOWS * 4))\n",
    "#     plot_next_multi(\n",
    "#         axes,\n",
    "#         input_it,\n",
    "#         label_it,\n",
    "#         forecast_it,\n",
    "#         context_length=1 * PDT,\n",
    "#         intervals=(0.9, 0.95),\n",
    "#         dim=None,\n",
    "#         name=\"Prediction\",\n",
    "#         show_label=True,\n",
    "#     )\n",
    "#     plt.tight_layout()\n",
    "\n",
    "#     plt.savefig(\"pretrained_moirai_predictions.png\")"
   ]
  },
  {
   "cell_type": "code",
   "execution_count": null,
   "id": "6b7a459d-5399-4449-83f9-dda598f7a54c",
   "metadata": {},
   "outputs": [],
   "source": [
    "experiment_run = \"stage_one_crypto\"\n",
    "os.listdir(f\"../outputs/finetune/{experiment_run}/checkpoints/\")"
   ]
  },
  {
   "cell_type": "code",
   "execution_count": null,
   "id": "d2df75b8-1456-4db5-a52c-6ca0353f5832",
   "metadata": {},
   "outputs": [],
   "source": [
    "checkpoint = os.listdir(f\"../outputs/finetune/{experiment_run}/checkpoints/\")[-1]\n",
    "\n",
    "print(f\"Checkpoint: {checkpoint}\")\n",
    "\n",
    "fine_tuned_model = MoiraiForecast.load_from_checkpoint(\n",
    "    prediction_length=PDT,\n",
    "    context_length=CTX,\n",
    "    patch_size=PSZ,\n",
    "    num_samples=200,\n",
    "    target_dim=1,\n",
    "    feat_dynamic_real_dim=0,\n",
    "    past_feat_dynamic_real_dim=0,\n",
    "    checkpoint_path=f\"../outputs/finetune/{experiment_run}/checkpoints/{checkpoint}\",\n",
    ")"
   ]
  },
  {
   "cell_type": "code",
   "execution_count": null,
   "id": "2d24293d-0229-4695-baf8-caa5b89c64d4",
   "metadata": {},
   "outputs": [],
   "source": [
    "predictor = fine_tuned_model.create_predictor(batch_size=BSZ)\n",
    "forecasts = predictor.predict(test_data.input)\n",
    "\n",
    "input_it = iter(test_data.input)\n",
    "label_it = iter(test_data.label)\n",
    "forecast_it = iter(forecasts)"
   ]
  },
  {
   "cell_type": "code",
   "execution_count": null,
   "id": "4d1c4128-75dc-443a-bd0f-57234b09ea72",
   "metadata": {},
   "outputs": [],
   "source": [
    "finetuned_errors = []\n",
    "for i in range(NUM_WINDOWS):\n",
    "    try:\n",
    "        label = next(label_it)[\"target\"]\n",
    "        forecast = next(forecast_it).mean\n",
    "    except Exception as e:\n",
    "        print(e)\n",
    "        break\n",
    "\n",
    "    finetuned_errors.append(np.mean(np.abs((label - forecast) / label)))"
   ]
  },
  {
   "cell_type": "code",
   "execution_count": null,
   "id": "3c547de6-affd-4ac9-af96-103d114286e1",
   "metadata": {},
   "outputs": [],
   "source": [
    "window_size = 4\n",
    "plt.title(f\"Finetuned MOIRAI MAE: {np.round(np.mean(finetuned_errors), 3)}\")\n",
    "plt.plot(\n",
    "    range(window_size - 1, len(errors)),\n",
    "    moving_average(np.array(finetuned_errors), window_size),\n",
    "    label=\"Error MA\",\n",
    ")\n",
    "plt.plot(range(len(finetuned_errors)), finetuned_errors, label=\"Error\")\n",
    "plt.legend()\n",
    "# plt.savefig(\"finetuned_moirai_mae.png\");"
   ]
  },
  {
   "cell_type": "code",
   "execution_count": null,
   "id": "b07daaa5-cfb0-4d5b-8efb-840fd846b16d",
   "metadata": {},
   "outputs": [],
   "source": [
    "# # Make predictions\n",
    "# if NUM_WINDOWS <= 30:\n",
    "#     predictor = fine_tuned_model.create_predictor(batch_size=BSZ)\n",
    "#     forecasts = predictor.predict(test_data.input)\n",
    "\n",
    "#     input_it = iter(test_data.input)\n",
    "#     label_it = iter(test_data.label)\n",
    "#     forecast_it = iter(forecasts)\n",
    "\n",
    "#     fig, axes = plt.subplots(nrows=NUM_WINDOWS, ncols=1, figsize=(8, NUM_WINDOWS * 4))\n",
    "#     plot_next_multi(\n",
    "#         axes,\n",
    "#         input_it,\n",
    "#         label_it,\n",
    "#         forecast_it,\n",
    "#         context_length=1 * PDT,\n",
    "#         intervals=(0.9, 0.95),\n",
    "#         dim=None,\n",
    "#         name=\"Prediction\",\n",
    "#         show_label=True,\n",
    "#     )\n",
    "#     plt.tight_layout()\n",
    "#     plt.savefig(\"finetuned_moirai_predictions.png\")"
   ]
  },
  {
   "cell_type": "code",
   "execution_count": null,
   "id": "4521db19-5935-48b9-aa74-69ba36ec1d68",
   "metadata": {},
   "outputs": [],
   "source": [
    "window_size = 4\n",
    "plt.title(\"Finetuned vs Pretrained MOIRAI\")\n",
    "plt.plot(\n",
    "    range(len(moving_average(np.array(errors), window_size))),\n",
    "    moving_average(np.array(errors), window_size),\n",
    "    label=\"Pretrained MA Error\",\n",
    ")\n",
    "plt.plot(\n",
    "    range(len(moving_average(np.array(finetuned_errors), window_size))),\n",
    "    moving_average(np.array(finetuned_errors), window_size),\n",
    "    label=\"Finetuned MA Error\",\n",
    ")\n",
    "plt.xlabel(\"Training Window Index\")\n",
    "plt.ylabel(\"MAPE\")\n",
    "plt.legend()\n",
    "# plt.savefig(\"../experiment_results/stage_1_finetune_gr_data/ft_vs_pt_train_mape.jpeg\");"
   ]
  },
  {
   "cell_type": "code",
   "execution_count": null,
   "id": "99d97243-b8f4-4b70-89d2-fc984885e74d",
   "metadata": {},
   "outputs": [],
   "source": [
    "# from uni2ts.eval_util.evaluation import evaluate_model\n",
    "# from gluonts.ev.metrics import MAE, MAPE"
   ]
  },
  {
   "cell_type": "code",
   "execution_count": null,
   "id": "fe5c831b-feea-42d6-bf57-72b41742236c",
   "metadata": {},
   "outputs": [],
   "source": [
    "# metrics = []\n",
    "# for perc in [0.025, 0.05, 0.1, 0.5, 0.9, 0.95, 0.975]:\n",
    "#     metric_eval = evaluate_model(\n",
    "#         model=fine_tuned_model.create_predictor(batch_size=BSZ),\n",
    "#         test_data=test_data,\n",
    "#         metrics=[MAE(perc), MAPE(perc)],\n",
    "#     )\n",
    "\n",
    "#     metrics.append(metric_eval)\n",
    "\n",
    "# pd.concat(metrics, axis=1)"
   ]
  },
  {
   "cell_type": "code",
   "execution_count": null,
   "id": "50ac4e40-fdba-4ea3-9d0b-bc8533b46203",
   "metadata": {},
   "outputs": [],
   "source": [
    "# metrics = []\n",
    "# for perc in [0.025, 0.05, 0.1, 0.5, 0.9, 0.95, 0.975]:\n",
    "#     metric_eval = evaluate_model(\n",
    "#         model=model.create_predictor(batch_size=BSZ),\n",
    "#         test_data=test_data,\n",
    "#         metrics=[MAE(perc), MAPE(perc)],\n",
    "#     )\n",
    "\n",
    "#     metrics.append(metric_eval)\n",
    "\n",
    "# pd.concat(metrics, axis=1)"
   ]
  },
  {
   "cell_type": "code",
   "execution_count": null,
   "id": "1654bfa3-faa8-43d9-a7d5-7f781efdf3f9",
   "metadata": {},
   "outputs": [],
   "source": []
  }
 ],
 "metadata": {
  "kernelspec": {
   "display_name": "fts_explore",
   "language": "python",
   "name": "fts_explore"
  },
  "language_info": {
   "codemirror_mode": {
    "name": "ipython",
    "version": 3
   },
   "file_extension": ".py",
   "mimetype": "text/x-python",
   "name": "python",
   "nbconvert_exporter": "python",
   "pygments_lexer": "ipython3",
   "version": "3.11.9"
  }
 },
 "nbformat": 4,
 "nbformat_minor": 5
}
